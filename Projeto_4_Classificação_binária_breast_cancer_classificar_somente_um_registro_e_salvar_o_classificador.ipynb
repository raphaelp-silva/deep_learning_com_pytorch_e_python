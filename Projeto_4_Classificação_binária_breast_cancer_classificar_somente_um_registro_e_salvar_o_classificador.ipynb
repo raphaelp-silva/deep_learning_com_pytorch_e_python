{
  "nbformat": 4,
  "nbformat_minor": 0,
  "metadata": {
    "colab": {
      "provenance": [],
      "include_colab_link": true
    },
    "kernelspec": {
      "name": "python3",
      "display_name": "Python 3"
    },
    "accelerator": "GPU"
  },
  "cells": [
    {
      "cell_type": "markdown",
      "metadata": {
        "id": "view-in-github",
        "colab_type": "text"
      },
      "source": [
        "<a href=\"https://colab.research.google.com/github/raphaelp-silva/deep_learning_com_pytorch_e_python/blob/main/Projeto_4_Classifica%C3%A7%C3%A3o_bin%C3%A1ria_breast_cancer_classificar_somente_um_registro_e_salvar_o_classificador.ipynb\" target=\"_parent\"><img src=\"https://colab.research.google.com/assets/colab-badge.svg\" alt=\"Open In Colab\"/></a>"
      ]
    },
    {
      "cell_type": "markdown",
      "metadata": {
        "id": "rD_RSER5Lkb5"
      },
      "source": [
        "# Projeto 4: Classificação binária brest cancer - classificar somente um registro e salvar o classificador"
      ]
    },
    {
      "cell_type": "markdown",
      "metadata": {
        "id": "5tP2BcEILoLB"
      },
      "source": [
        "## Etapa 1: Importação das bibliotecas"
      ]
    },
    {
      "cell_type": "code",
      "metadata": {
        "id": "Yf0FpJ35Lf-Z",
        "colab": {
          "base_uri": "https://localhost:8080/",
          "height": 35
        },
        "outputId": "7ea9e80c-73e6-4610-b0af-5a65723b1669"
      },
      "source": [
        "import pandas as pd\n",
        "from sklearn.model_selection import train_test_split\n",
        "import numpy as np\n",
        "import seaborn as sns\n",
        "from sklearn.metrics import confusion_matrix, accuracy_score\n",
        "import torch\n",
        "import torch.nn as nn\n",
        "torch.__version__"
      ],
      "execution_count": 1,
      "outputs": [
        {
          "output_type": "execute_result",
          "data": {
            "text/plain": [
              "'2.5.1+cu124'"
            ],
            "application/vnd.google.colaboratory.intrinsic+json": {
              "type": "string"
            }
          },
          "metadata": {},
          "execution_count": 1
        }
      ]
    },
    {
      "cell_type": "markdown",
      "metadata": {
        "id": "C0SD4dJ4MDMN"
      },
      "source": [
        "## Etapa 2: Base de dados"
      ]
    },
    {
      "cell_type": "code",
      "metadata": {
        "id": "J9aIu62WMGo8",
        "colab": {
          "base_uri": "https://localhost:8080/"
        },
        "outputId": "66a15abc-301b-43f6-a94a-f3fc143212b8"
      },
      "source": [
        "np.random.seed(123)\n",
        "torch.manual_seed(123)"
      ],
      "execution_count": 2,
      "outputs": [
        {
          "output_type": "execute_result",
          "data": {
            "text/plain": [
              "<torch._C.Generator at 0x7822d0f5f850>"
            ]
          },
          "metadata": {},
          "execution_count": 2
        }
      ]
    },
    {
      "cell_type": "code",
      "metadata": {
        "id": "u49yuDE9MJs6"
      },
      "source": [
        "previsores = pd.read_csv('entradas_breast.csv')\n",
        "classe = pd.read_csv('saidas_breast.csv')"
      ],
      "execution_count": 3,
      "outputs": []
    },
    {
      "cell_type": "code",
      "metadata": {
        "id": "9FpRPDPysaAR"
      },
      "source": [
        "previsores = torch.tensor(np.array(previsores), dtype = torch.float)\n",
        "classe = torch.tensor(np.array(classe), dtype = torch.float)"
      ],
      "execution_count": 4,
      "outputs": []
    },
    {
      "cell_type": "code",
      "metadata": {
        "id": "jNvzT-k0f2rh",
        "colab": {
          "base_uri": "https://localhost:8080/"
        },
        "outputId": "d4698124-612b-450c-ecd9-d7e799cc04fa"
      },
      "source": [
        "type(previsores)"
      ],
      "execution_count": 5,
      "outputs": [
        {
          "output_type": "execute_result",
          "data": {
            "text/plain": [
              "torch.Tensor"
            ]
          },
          "metadata": {},
          "execution_count": 5
        }
      ]
    },
    {
      "cell_type": "markdown",
      "metadata": {
        "id": "72uvlxJrOuWd"
      },
      "source": [
        "## Etapa 3: Transformação dos dados para tensores\n"
      ]
    },
    {
      "cell_type": "code",
      "metadata": {
        "id": "dtRWhopTQh0a"
      },
      "source": [
        "train_loader = torch.utils.data.DataLoader(torch.utils.data.TensorDataset(previsores, classe), batch_size = 10, shuffle = True)"
      ],
      "execution_count": 6,
      "outputs": []
    },
    {
      "cell_type": "markdown",
      "metadata": {
        "id": "QGDLesyDQpIb"
      },
      "source": [
        "## Etapa 4: Construção do modelo"
      ]
    },
    {
      "cell_type": "code",
      "metadata": {
        "id": "K9SHCjuqQuax"
      },
      "source": [
        "class classificador_torch(nn.Module):\n",
        "    def __init__(self):\n",
        "        super().__init__()\n",
        "        self.dense0 = nn.Linear(30, 8)\n",
        "        # Mesmos parâmetors usados pelo kernel initializer do Keras [https://keras.io/initializers/, ver sessão RandomNormal]\n",
        "        torch.nn.init.normal_(self.dense0.weight, mean = 0.0, std= 0.05)\n",
        "        self.dense1 = nn.Linear(8, 8)\n",
        "        torch.nn.init.normal_(self.dense1.weight, mean = 0.0, std= 0.05)\n",
        "        self.dense2 = nn.Linear(8, 1)\n",
        "        self.activation = nn.ReLU()\n",
        "        self.dropout = nn.Dropout(0.2)\n",
        "        self.output = nn.Sigmoid()\n",
        "\n",
        "    def forward(self, X):\n",
        "        X = self.dense0(X)\n",
        "        X = self.activation(X)\n",
        "        X = self.dropout(X)\n",
        "        X = self.dense1(X)\n",
        "        X = self.activation(X)\n",
        "        X = self.dropout(X)\n",
        "        X = self.dense2(X)\n",
        "        X = self.output(X)\n",
        "        return X"
      ],
      "execution_count": 7,
      "outputs": []
    },
    {
      "cell_type": "code",
      "metadata": {
        "id": "Q_7v8RZPs85E"
      },
      "source": [
        "classificador = classificador_torch()"
      ],
      "execution_count": 8,
      "outputs": []
    },
    {
      "cell_type": "code",
      "metadata": {
        "id": "6fm4mbCotCSf"
      },
      "source": [
        "criterion = nn.BCELoss()\n",
        "optimizer = torch.optim.Adam(classificador.parameters(), lr = 0.001,\n",
        "                             weight_decay = 0.0001)"
      ],
      "execution_count": 9,
      "outputs": []
    },
    {
      "cell_type": "markdown",
      "metadata": {
        "id": "appMwDHtRTN5"
      },
      "source": [
        "## Etapa 5: Treinamento do modelo"
      ]
    },
    {
      "cell_type": "code",
      "metadata": {
        "id": "hLi-Elc8RVSJ",
        "colab": {
          "base_uri": "https://localhost:8080/"
        },
        "outputId": "8185e871-c9f9-4a43-d701-d757a6492d57"
      },
      "source": [
        "for epoch in range(100):\n",
        "    running_loss = 0.\n",
        "\n",
        "    for data in train_loader:\n",
        "        inputs, labels = data\n",
        "        optimizer.zero_grad()\n",
        "\n",
        "        outputs = classificador(inputs)\n",
        "        loss = criterion(outputs, labels)\n",
        "        loss.backward()\n",
        "        optimizer.step()\n",
        "\n",
        "        running_loss += loss.item()\n",
        "\n",
        "    print('Época %3d: perda %.5f' % (epoch+1, running_loss/len(train_loader)))"
      ],
      "execution_count": 10,
      "outputs": [
        {
          "output_type": "stream",
          "name": "stdout",
          "text": [
            "Época   1: perda 1.65405\n",
            "Época   2: perda 0.83266\n",
            "Época   3: perda 0.68309\n",
            "Época   4: perda 0.61071\n",
            "Época   5: perda 0.58727\n",
            "Época   6: perda 0.59212\n",
            "Época   7: perda 0.54197\n",
            "Época   8: perda 0.52175\n",
            "Época   9: perda 0.51248\n",
            "Época  10: perda 0.51385\n",
            "Época  11: perda 0.50309\n",
            "Época  12: perda 0.47485\n",
            "Época  13: perda 0.47657\n",
            "Época  14: perda 0.45629\n",
            "Época  15: perda 0.44756\n",
            "Época  16: perda 0.44154\n",
            "Época  17: perda 0.41747\n",
            "Época  18: perda 0.39531\n",
            "Época  19: perda 0.42316\n",
            "Época  20: perda 0.37898\n",
            "Época  21: perda 0.40490\n",
            "Época  22: perda 0.38421\n",
            "Época  23: perda 0.38859\n",
            "Época  24: perda 0.39575\n",
            "Época  25: perda 0.37081\n",
            "Época  26: perda 0.37289\n",
            "Época  27: perda 0.36106\n",
            "Época  28: perda 0.37193\n",
            "Época  29: perda 0.37447\n",
            "Época  30: perda 0.35007\n",
            "Época  31: perda 0.36657\n",
            "Época  32: perda 0.31675\n",
            "Época  33: perda 0.32431\n",
            "Época  34: perda 0.33630\n",
            "Época  35: perda 0.36814\n",
            "Época  36: perda 0.35728\n",
            "Época  37: perda 0.33705\n",
            "Época  38: perda 0.31823\n",
            "Época  39: perda 0.32361\n",
            "Época  40: perda 0.33200\n",
            "Época  41: perda 0.32638\n",
            "Época  42: perda 0.32918\n",
            "Época  43: perda 0.31377\n",
            "Época  44: perda 0.32886\n",
            "Época  45: perda 0.33175\n",
            "Época  46: perda 0.33229\n",
            "Época  47: perda 0.32545\n",
            "Época  48: perda 0.29924\n",
            "Época  49: perda 0.32201\n",
            "Época  50: perda 0.32195\n",
            "Época  51: perda 0.31464\n",
            "Época  52: perda 0.33759\n",
            "Época  53: perda 0.28933\n",
            "Época  54: perda 0.30102\n",
            "Época  55: perda 0.31426\n",
            "Época  56: perda 0.30769\n",
            "Época  57: perda 0.32158\n",
            "Época  58: perda 0.30409\n",
            "Época  59: perda 0.32977\n",
            "Época  60: perda 0.29156\n",
            "Época  61: perda 0.29801\n",
            "Época  62: perda 0.29097\n",
            "Época  63: perda 0.33532\n",
            "Época  64: perda 0.29227\n",
            "Época  65: perda 0.30109\n",
            "Época  66: perda 0.32523\n",
            "Época  67: perda 0.28860\n",
            "Época  68: perda 0.32231\n",
            "Época  69: perda 0.29719\n",
            "Época  70: perda 0.28446\n",
            "Época  71: perda 0.30470\n",
            "Época  72: perda 0.30474\n",
            "Época  73: perda 0.28319\n",
            "Época  74: perda 0.28227\n",
            "Época  75: perda 0.27883\n",
            "Época  76: perda 0.28966\n",
            "Época  77: perda 0.29302\n",
            "Época  78: perda 0.29545\n",
            "Época  79: perda 0.27788\n",
            "Época  80: perda 0.26615\n",
            "Época  81: perda 0.32046\n",
            "Época  82: perda 0.28308\n",
            "Época  83: perda 0.28421\n",
            "Época  84: perda 0.28691\n",
            "Época  85: perda 0.26893\n",
            "Época  86: perda 0.27534\n",
            "Época  87: perda 0.25947\n",
            "Época  88: perda 0.28479\n",
            "Época  89: perda 0.27459\n",
            "Época  90: perda 0.29052\n",
            "Época  91: perda 0.28941\n",
            "Época  92: perda 0.24735\n",
            "Época  93: perda 0.28302\n",
            "Época  94: perda 0.26729\n",
            "Época  95: perda 0.27760\n",
            "Época  96: perda 0.25613\n",
            "Época  97: perda 0.28534\n",
            "Época  98: perda 0.26874\n",
            "Época  99: perda 0.26170\n",
            "Época 100: perda 0.26742\n"
          ]
        }
      ]
    },
    {
      "cell_type": "markdown",
      "metadata": {
        "id": "ITUtUdQNSJcs"
      },
      "source": [
        "## Etapa 6: Classificar somente um registro"
      ]
    },
    {
      "cell_type": "code",
      "metadata": {
        "id": "Ov6lKERhSDNS"
      },
      "source": [
        "novo = torch.tensor([[15.80, 8.34, 118, 900, 0.10, 0.26, 0.08, 0.134, 0.178,\n",
        "                  0.20, 0.05, 1098, 0.87, 4500, 145.2, 0.005, 0.04, 0.05, 0.015,\n",
        "                  0.03, 0.007, 23.15, 16.64, 178.5, 2018, 0.14, 0.185,\n",
        "                  0.84, 158, 0.363]], dtype = torch.float)"
      ],
      "execution_count": 11,
      "outputs": []
    },
    {
      "cell_type": "code",
      "metadata": {
        "id": "5EAN_Xd7hHZb",
        "colab": {
          "base_uri": "https://localhost:8080/"
        },
        "outputId": "bc5d0166-5c99-4e66-89b5-0e186ec39450"
      },
      "source": [
        "classificador.eval()"
      ],
      "execution_count": 12,
      "outputs": [
        {
          "output_type": "execute_result",
          "data": {
            "text/plain": [
              "classificador_torch(\n",
              "  (dense0): Linear(in_features=30, out_features=8, bias=True)\n",
              "  (dense1): Linear(in_features=8, out_features=8, bias=True)\n",
              "  (dense2): Linear(in_features=8, out_features=1, bias=True)\n",
              "  (activation): ReLU()\n",
              "  (dropout): Dropout(p=0.2, inplace=False)\n",
              "  (output): Sigmoid()\n",
              ")"
            ]
          },
          "metadata": {},
          "execution_count": 12
        }
      ]
    },
    {
      "cell_type": "code",
      "metadata": {
        "id": "cPR2UpABhMPh"
      },
      "source": [
        "previsao = classificador(novo)"
      ],
      "execution_count": 13,
      "outputs": []
    },
    {
      "cell_type": "code",
      "metadata": {
        "id": "UkGgtU2RhQIk",
        "colab": {
          "base_uri": "https://localhost:8080/"
        },
        "outputId": "7a0c35bf-fccf-4b78-bbf2-00c5318e22bd"
      },
      "source": [
        "previsao"
      ],
      "execution_count": 14,
      "outputs": [
        {
          "output_type": "execute_result",
          "data": {
            "text/plain": [
              "tensor([[1.]], grad_fn=<SigmoidBackward0>)"
            ]
          },
          "metadata": {},
          "execution_count": 14
        }
      ]
    },
    {
      "cell_type": "code",
      "metadata": {
        "id": "Tp8Tn8L1hT6B"
      },
      "source": [
        "previsao = previsao.detach()"
      ],
      "execution_count": 15,
      "outputs": []
    },
    {
      "cell_type": "code",
      "metadata": {
        "id": "xkBUV6KghXX9",
        "colab": {
          "base_uri": "https://localhost:8080/"
        },
        "outputId": "c83c79c0-56a1-4858-9e3a-1309594ae15f"
      },
      "source": [
        "previsao"
      ],
      "execution_count": 16,
      "outputs": [
        {
          "output_type": "execute_result",
          "data": {
            "text/plain": [
              "tensor([[1.]])"
            ]
          },
          "metadata": {},
          "execution_count": 16
        }
      ]
    },
    {
      "cell_type": "code",
      "metadata": {
        "id": "wnJc7h96hd_6"
      },
      "source": [
        "previsao = previsao.numpy()"
      ],
      "execution_count": 17,
      "outputs": []
    },
    {
      "cell_type": "code",
      "metadata": {
        "id": "ahiBhejchiUt",
        "colab": {
          "base_uri": "https://localhost:8080/"
        },
        "outputId": "dd30c4ae-372e-47a7-a187-46db7e953fba"
      },
      "source": [
        "type(previsao)"
      ],
      "execution_count": 18,
      "outputs": [
        {
          "output_type": "execute_result",
          "data": {
            "text/plain": [
              "numpy.ndarray"
            ]
          },
          "metadata": {},
          "execution_count": 18
        }
      ]
    },
    {
      "cell_type": "code",
      "metadata": {
        "id": "6CxG9EOIhk0l",
        "colab": {
          "base_uri": "https://localhost:8080/"
        },
        "outputId": "73016da6-fa9f-45df-c030-5dd704171f1c"
      },
      "source": [
        "previsao"
      ],
      "execution_count": 19,
      "outputs": [
        {
          "output_type": "execute_result",
          "data": {
            "text/plain": [
              "array([[1.]], dtype=float32)"
            ]
          },
          "metadata": {},
          "execution_count": 19
        }
      ]
    },
    {
      "cell_type": "code",
      "metadata": {
        "id": "jN9LBKYZhnuy",
        "colab": {
          "base_uri": "https://localhost:8080/"
        },
        "outputId": "e76b159f-2b4a-4b47-9b86-5744a5ef416b"
      },
      "source": [
        "previsao = (previsao > 0.5)\n",
        "previsao"
      ],
      "execution_count": 20,
      "outputs": [
        {
          "output_type": "execute_result",
          "data": {
            "text/plain": [
              "array([[ True]])"
            ]
          },
          "metadata": {},
          "execution_count": 20
        }
      ]
    },
    {
      "cell_type": "markdown",
      "metadata": {
        "id": "z19bhpjius1H"
      },
      "source": [
        "# Etapa 7: Salvar o classificador"
      ]
    },
    {
      "cell_type": "code",
      "metadata": {
        "id": "m1-lxFHAcHsT"
      },
      "source": [
        "# Quando salvar, você precisa chamar classificador.state_dict() (com os parêntese no final),\n",
        "# ao invés de classificador.state_dict"
      ],
      "execution_count": null,
      "outputs": []
    },
    {
      "cell_type": "code",
      "metadata": {
        "id": "5tIub9reh0Vv",
        "colab": {
          "base_uri": "https://localhost:8080/"
        },
        "outputId": "994f9fb0-e4fa-4c7c-dadf-a2c110396ff0"
      },
      "source": [
        "classificador.state_dict()"
      ],
      "execution_count": 21,
      "outputs": [
        {
          "output_type": "execute_result",
          "data": {
            "text/plain": [
              "OrderedDict([('dense0.weight',\n",
              "              tensor([[-6.3329e-01, -6.4088e-03, -3.8681e-01, -1.0687e-01,  9.4179e-02,\n",
              "                       -2.8071e-02,  5.8217e-02, -5.5828e-02,  1.4919e-02,  5.5338e-02,\n",
              "                        8.5171e-03, -1.0727e-03,  3.1089e-03, -1.7085e-02,  3.1640e-02,\n",
              "                        2.3500e-01, -3.9340e-01, -1.7852e-01, -6.7033e-02,  5.4838e-01,\n",
              "                       -4.7472e-01,  2.4388e-02, -3.2421e-01,  1.8188e-01,  1.4345e-02,\n",
              "                        3.0411e-02,  1.2222e-02,  4.2423e-02,  1.6629e-02,  6.2451e-01],\n",
              "                      [ 9.6147e-02,  8.9823e-03,  6.2657e-02, -2.7833e-02,  2.5520e-02,\n",
              "                       -1.4683e-02,  8.4852e-09, -5.5642e-02, -4.3206e-02,  2.9459e-04,\n",
              "                        3.3087e-02,  1.5457e-03, -3.6564e-02,  7.3219e-02, -9.4868e-11,\n",
              "                       -5.2539e-07,  3.7381e-03,  2.0600e-09,  6.6002e-09,  2.5737e-10,\n",
              "                       -7.0341e-02,  3.3297e-02, -3.6295e-02, -3.3981e-02, -7.6689e-02,\n",
              "                       -2.0092e-06,  4.7069e-02, -4.0303e-02,  2.6344e-02,  9.2793e-04],\n",
              "                      [ 4.1181e-02, -8.6806e-02, -3.9069e-02, -8.3872e-02, -1.2510e-02,\n",
              "                       -1.7219e-02,  3.2185e-03,  1.1052e-02, -3.7319e-03,  1.7155e-03,\n",
              "                       -9.8148e-04, -4.3878e-02,  8.7967e-03,  9.8443e-02,  1.3644e-11,\n",
              "                        5.7516e-11, -1.3302e-02, -3.3446e-11, -1.6855e-02,  4.5200e-11,\n",
              "                       -4.5982e-03, -1.1960e-02,  3.6612e-02, -2.7844e-02, -6.1165e-02,\n",
              "                        5.8346e-02, -1.0369e-02,  4.2436e-02,  4.9330e-03,  2.0497e-02],\n",
              "                      [-2.2657e-01, -3.6825e-01, -1.5094e-01, -8.8204e-02,  7.9177e-02,\n",
              "                        2.4601e-01,  5.2862e-02, -3.0540e-01, -9.5427e-02,  2.1682e-01,\n",
              "                        1.9368e-02, -3.8516e-03, -7.0539e-02, -9.1150e-03,  2.8472e-03,\n",
              "                       -2.5680e-01,  5.7369e-02, -2.9271e-01,  5.9253e-01,  4.1783e-03,\n",
              "                       -2.6260e-01, -3.3219e-01, -9.0677e-02,  1.4498e-01, -4.6008e-02,\n",
              "                       -1.1123e-01, -1.5665e-01,  1.9400e-01, -4.5437e-02,  1.8229e-01],\n",
              "                      [-4.8294e-02,  1.3660e-01,  3.6804e-03,  2.2141e-03, -5.7138e-02,\n",
              "                       -1.5095e-01,  4.7544e-02,  1.0020e-01,  1.9228e-01,  8.9268e-02,\n",
              "                       -2.5567e-02, -1.0689e-02, -1.8081e-01, -1.4577e-01,  2.6901e-03,\n",
              "                        1.4129e-02, -9.0719e-03,  4.0218e-02, -7.4139e-03,  2.3647e-03,\n",
              "                        3.4200e-02,  3.0528e-02, -5.6643e-02, -3.0248e-02,  6.6572e-02,\n",
              "                        8.8797e-02,  1.8084e-01,  1.7884e-02,  3.0470e-03, -2.3238e-02],\n",
              "                      [ 5.9815e-02,  1.4091e-01,  4.9101e-02,  1.5332e-02,  3.3443e-03,\n",
              "                       -4.9562e-02, -2.7346e-02,  2.6788e-01,  2.0633e-01,  3.1605e-01,\n",
              "                       -5.3722e-03, -1.0291e-01, -8.1479e-02,  1.7924e-02,  1.0838e-04,\n",
              "                       -1.0563e-03,  1.3666e-02,  2.3037e-01, -4.7649e-04,  3.5058e-05,\n",
              "                       -1.3660e-02,  6.1262e-02,  8.9929e-03, -7.1617e-02, -1.1225e-02,\n",
              "                        1.3014e-01,  9.7436e-02, -4.0494e-02,  4.2896e-03,  1.3757e-02],\n",
              "                      [ 7.4268e-03,  9.9878e-02,  2.1983e-01,  2.5466e-02, -8.0849e-02,\n",
              "                       -1.2076e-01,  2.6934e-02,  1.8418e-01,  3.3349e-01, -2.9291e-01,\n",
              "                       -5.0843e-02,  4.3916e-02, -1.1596e-02, -4.3265e-01,  2.9670e-03,\n",
              "                        5.1034e-01,  2.0607e-01, -9.9853e-03, -1.3236e-01, -2.3625e-01,\n",
              "                        8.6755e-02, -5.1517e-02,  1.2349e-01, -1.2307e-01, -2.4666e-01,\n",
              "                        8.4388e-02, -1.8455e-01,  1.2864e-01,  1.8754e-02, -2.6684e-01],\n",
              "                      [ 6.4321e-02,  2.1270e-01,  3.6709e-01,  7.2473e-02, -1.6935e-01,\n",
              "                       -1.7248e-01,  1.8554e-03,  7.7814e-02,  2.6508e-02,  3.2302e-01,\n",
              "                       -1.5540e-01, -6.3593e-02, -2.9335e-04, -2.1352e-02, -2.7591e-03,\n",
              "                       -6.8358e-02,  1.3481e-01,  2.8091e-01,  5.5557e-01,  6.0556e-03,\n",
              "                        1.4200e-01, -3.1958e-02,  1.8538e-01, -1.3398e-01,  6.2603e-02,\n",
              "                        5.6736e-03,  1.4939e-02, -5.7788e-02, -3.0661e-02, -1.2211e-01]])),\n",
              "             ('dense0.bias',\n",
              "              tensor([-7.1245e-01,  3.7253e-05, -3.0013e-03, -3.5185e-01,  7.7102e-02,\n",
              "                       2.6732e-01,  3.6137e-01,  4.8335e-01])),\n",
              "             ('dense1.weight',\n",
              "              tensor([[-0.0253,  0.0385,  0.0021, -0.0159, -0.0676,  0.0142,  0.0426, -0.1180],\n",
              "                      [-0.0686, -0.0612,  0.0227, -0.0348,  0.0268,  0.1117,  0.0967, -0.1447],\n",
              "                      [ 0.1267, -0.0397, -0.0088,  0.0882,  0.0367, -0.0870,  0.0144, -0.0287],\n",
              "                      [ 0.1711, -0.0506, -0.0293,  0.1008,  0.0171, -0.0269, -0.0092, -0.0089],\n",
              "                      [-0.0153,  0.0349, -0.0031, -0.0966,  0.0317,  0.1007,  0.0436,  0.1134],\n",
              "                      [-0.0027,  0.0876,  0.0202, -0.0139,  0.0211,  0.0430, -0.0635, -0.0860],\n",
              "                      [-0.2384,  0.0389,  0.0418, -0.0852,  0.0332,  0.1488,  0.0541,  0.1927],\n",
              "                      [-0.0151,  0.0045,  0.0448, -0.0699,  0.0240,  0.0737,  0.0628,  0.1615]])),\n",
              "             ('dense1.bias',\n",
              "              tensor([-0.0078, -0.0071, -0.9060, -0.6372,  0.5498,  0.1343, -0.0091,  0.5272])),\n",
              "             ('dense2.weight',\n",
              "              tensor([[ 0.0501,  0.2658, -0.3919, -0.2614,  0.4129,  0.1068,  0.4033,  0.3350]])),\n",
              "             ('dense2.bias', tensor([0.3657]))])"
            ]
          },
          "metadata": {},
          "execution_count": 21
        }
      ]
    },
    {
      "cell_type": "code",
      "metadata": {
        "id": "pR7iIF2hh_V9"
      },
      "source": [
        "# Para salvar o classificador com a versão 1.5.0 do PyTorch, use o código abaixo\n",
        "\n",
        "torch.save(classificador.state_dict(), 'checkpoint.pth')"
      ],
      "execution_count": 22,
      "outputs": []
    }
  ]
}