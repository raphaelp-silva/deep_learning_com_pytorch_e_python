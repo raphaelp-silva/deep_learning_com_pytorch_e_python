{
  "nbformat": 4,
  "nbformat_minor": 0,
  "metadata": {
    "colab": {
      "provenance": [],
      "collapsed_sections": [
        "QGDLesyDQpIb",
        "appMwDHtRTN5",
        "AyTjLzELSdQF"
      ],
      "include_colab_link": true
    },
    "kernelspec": {
      "name": "python3",
      "display_name": "Python 3"
    },
    "accelerator": "GPU"
  },
  "cells": [
    {
      "cell_type": "markdown",
      "metadata": {
        "id": "view-in-github",
        "colab_type": "text"
      },
      "source": [
        "<a href=\"https://colab.research.google.com/github/raphaelp-silva/deep_learning_com_pytorch_e_python/blob/main/Tarefa_Tuning_regress%C3%A3o_carros_usados.ipynb\" target=\"_parent\"><img src=\"https://colab.research.google.com/assets/colab-badge.svg\" alt=\"Open In Colab\"/></a>"
      ]
    },
    {
      "cell_type": "markdown",
      "metadata": {
        "id": "rD_RSER5Lkb5"
      },
      "source": [
        "# Tarefa: Tuning regressão carros usados"
      ]
    },
    {
      "cell_type": "markdown",
      "metadata": {
        "id": "5tP2BcEILoLB"
      },
      "source": [
        "## Etapa 1: Importação das bibliotecas"
      ]
    },
    {
      "cell_type": "code",
      "metadata": {
        "id": "lQj9Yt2QdWkq",
        "outputId": "b687e382-5cb6-4335-d659-d6c297a7d414",
        "colab": {
          "base_uri": "https://localhost:8080/"
        }
      },
      "source": [
        "!pip install skorch"
      ],
      "execution_count": 1,
      "outputs": [
        {
          "output_type": "stream",
          "name": "stdout",
          "text": [
            "Collecting skorch\n",
            "  Downloading skorch-1.1.0-py3-none-any.whl.metadata (11 kB)\n",
            "Requirement already satisfied: numpy>=1.13.3 in /usr/local/lib/python3.11/dist-packages (from skorch) (1.26.4)\n",
            "Requirement already satisfied: scikit-learn>=0.22.0 in /usr/local/lib/python3.11/dist-packages (from skorch) (1.6.1)\n",
            "Requirement already satisfied: scipy>=1.1.0 in /usr/local/lib/python3.11/dist-packages (from skorch) (1.13.1)\n",
            "Requirement already satisfied: tabulate>=0.7.7 in /usr/local/lib/python3.11/dist-packages (from skorch) (0.9.0)\n",
            "Requirement already satisfied: tqdm>=4.14.0 in /usr/local/lib/python3.11/dist-packages (from skorch) (4.67.1)\n",
            "Requirement already satisfied: joblib>=1.2.0 in /usr/local/lib/python3.11/dist-packages (from scikit-learn>=0.22.0->skorch) (1.4.2)\n",
            "Requirement already satisfied: threadpoolctl>=3.1.0 in /usr/local/lib/python3.11/dist-packages (from scikit-learn>=0.22.0->skorch) (3.5.0)\n",
            "Downloading skorch-1.1.0-py3-none-any.whl (228 kB)\n",
            "\u001b[2K   \u001b[90m━━━━━━━━━━━━━━━━━━━━━━━━━━━━━━━━━━━━━━━━\u001b[0m \u001b[32m228.9/228.9 kB\u001b[0m \u001b[31m3.6 MB/s\u001b[0m eta \u001b[36m0:00:00\u001b[0m\n",
            "\u001b[?25hInstalling collected packages: skorch\n",
            "Successfully installed skorch-1.1.0\n"
          ]
        }
      ]
    },
    {
      "cell_type": "code",
      "metadata": {
        "id": "Yf0FpJ35Lf-Z",
        "outputId": "dd5c085f-1366-478a-944c-c0fb6769d62e",
        "colab": {
          "base_uri": "https://localhost:8080/",
          "height": 35
        }
      },
      "source": [
        "import pandas as pd\n",
        "import torch.nn as nn\n",
        "from skorch import NeuralNetRegressor\n",
        "import torch\n",
        "from sklearn.model_selection import GridSearchCV\n",
        "torch.__version__"
      ],
      "execution_count": 2,
      "outputs": [
        {
          "output_type": "execute_result",
          "data": {
            "text/plain": [
              "'2.5.1+cu124'"
            ],
            "application/vnd.google.colaboratory.intrinsic+json": {
              "type": "string"
            }
          },
          "metadata": {},
          "execution_count": 2
        }
      ]
    },
    {
      "cell_type": "markdown",
      "metadata": {
        "id": "C0SD4dJ4MDMN"
      },
      "source": [
        "## Etapa 2: Base de dados"
      ]
    },
    {
      "cell_type": "code",
      "metadata": {
        "id": "J9aIu62WMGo8",
        "outputId": "6ed36639-03c9-4d1f-8e65-8f161d45699a",
        "colab": {
          "base_uri": "https://localhost:8080/"
        }
      },
      "source": [
        "torch.manual_seed(123)"
      ],
      "execution_count": 3,
      "outputs": [
        {
          "output_type": "execute_result",
          "data": {
            "text/plain": [
              "<torch._C.Generator at 0x7d2377f20910>"
            ]
          },
          "metadata": {},
          "execution_count": 3
        }
      ]
    },
    {
      "cell_type": "code",
      "metadata": {
        "id": "6IqVnbpIW8mw"
      },
      "source": [
        "base = pd.read_csv('autos.csv', encoding = 'ISO-8859-1')\n",
        "base = base.drop('dateCrawled', axis = 1)\n",
        "base = base.drop('dateCreated', axis = 1)\n",
        "base = base.drop('nrOfPictures', axis = 1)\n",
        "base = base.drop('postalCode', axis = 1)\n",
        "base = base.drop('lastSeen', axis = 1)\n",
        "base = base.drop('name', axis = 1)\n",
        "base = base.drop('seller', axis = 1)\n",
        "base = base.drop('offerType', axis = 1)\n",
        "\n",
        "base = base[base.price > 10]\n",
        "base = base.loc[base.price < 350000]\n",
        "\n",
        "valores = {'vehicleType': 'limousine', 'gearbox': 'manuell',\n",
        "           'model': 'golf', 'fuelType': 'benzin',\n",
        "           'notRepairedDamage': 'nein'}\n",
        "base = base.fillna(value = valores)\n",
        "\n",
        "previsores = base.iloc[:, 1:13].values\n",
        "preco_real = base.iloc[:, 0].values.reshape(-1, 1)\n",
        "\n",
        "from sklearn.preprocessing import OneHotEncoder\n",
        "from sklearn.compose import ColumnTransformer\n",
        "onehotencoder = ColumnTransformer(transformers = [(\"OneHot\", OneHotEncoder(), [0, 1, 3, 5, 8, 9, 10])], remainder = 'passthrough')\n",
        "previsores = onehotencoder.fit_transform(previsores).toarray()\n",
        "\n",
        "previsores = previsores.astype('float32')\n",
        "preco_real = preco_real.astype('float32')"
      ],
      "execution_count": 4,
      "outputs": []
    },
    {
      "cell_type": "code",
      "source": [
        "previsores.shape"
      ],
      "metadata": {
        "id": "TG8DxxUkqUJA",
        "outputId": "d04a679b-cc18-4e4a-bed2-101029f72ecf",
        "colab": {
          "base_uri": "https://localhost:8080/"
        }
      },
      "execution_count": 5,
      "outputs": [
        {
          "output_type": "execute_result",
          "data": {
            "text/plain": [
              "(269609, 317)"
            ]
          },
          "metadata": {},
          "execution_count": 5
        }
      ]
    },
    {
      "cell_type": "markdown",
      "metadata": {
        "id": "QGDLesyDQpIb"
      },
      "source": [
        "## Etapa 3: Construção do modelo"
      ]
    },
    {
      "cell_type": "code",
      "metadata": {
        "id": "LAbZXJAIQ-oK"
      },
      "source": [
        "class regressor_torch(nn.Module):\n",
        "    def __init__(self):\n",
        "        super().__init__()\n",
        "        self.dense0 = nn.Linear(317, 158)\n",
        "        torch.nn.init.uniform_(self.dense0.weight)\n",
        "        self.dense1 = nn.Linear(158, 158)\n",
        "        torch.nn.init.uniform_(self.dense1.weight)\n",
        "        self.dense2 = nn.Linear(158, 1)\n",
        "\n",
        "        self.activation = nn.ReLU()\n",
        "\n",
        "    def forward(self, X):\n",
        "        X = self.dense0(X)\n",
        "        X = self.activation(X)\n",
        "        X = self.dense1(X)\n",
        "        X = self.activation(X)\n",
        "        X = self.dense2(X)\n",
        "        return X"
      ],
      "execution_count": 11,
      "outputs": []
    },
    {
      "cell_type": "code",
      "metadata": {
        "id": "fyfPIcpIf3wN"
      },
      "source": [
        "regressor_sklearn = NeuralNetRegressor(module = regressor_torch,\n",
        "                                       optimizer = torch.optim.Adam,\n",
        "                                       max_epochs = 100,\n",
        "                                       batch_size = 300,\n",
        "                                       train_split = False)"
      ],
      "execution_count": 12,
      "outputs": []
    },
    {
      "cell_type": "markdown",
      "metadata": {
        "id": "appMwDHtRTN5"
      },
      "source": [
        "## Etapa 4: Tuning dos parâmetros"
      ]
    },
    {
      "cell_type": "code",
      "metadata": {
        "id": "NuB-jEM_T8_I"
      },
      "source": [
        "params = {'criterion': [torch.nn.MSELoss, torch.nn.L1Loss, torch.nn.SmoothL1Loss]}"
      ],
      "execution_count": 13,
      "outputs": []
    },
    {
      "cell_type": "code",
      "metadata": {
        "id": "lka753fpgCNq"
      },
      "source": [
        "grid_search = GridSearchCV(estimator = regressor_sklearn,\n",
        "                           param_grid = params,\n",
        "                           cv = 5)"
      ],
      "execution_count": 14,
      "outputs": []
    },
    {
      "cell_type": "code",
      "metadata": {
        "id": "rfMlNX1MgGWk",
        "outputId": "ae325a49-7bfa-47c5-dd80-a6f669da759f",
        "colab": {
          "base_uri": "https://localhost:8080/"
        }
      },
      "source": [
        "grid_search = grid_search.fit(previsores, preco_real)"
      ],
      "execution_count": null,
      "outputs": [
        {
          "output_type": "stream",
          "name": "stdout",
          "text": [
            "  epoch         train_loss     dur\n",
            "-------  -----------------  ------\n",
            "      1  \u001b[36m409746253339.3449\u001b[0m  4.2352\n",
            "      2  \u001b[36m97220736.6100\u001b[0m  4.2442\n",
            "      3  \u001b[36m96022920.0120\u001b[0m  3.6240\n",
            "      4  \u001b[36m95797013.7261\u001b[0m  4.0008\n",
            "      5  1199774627.6839  3.6426\n",
            "      6  2355691602.5791  3.5399\n",
            "      7  1480782707.1292  3.6944\n",
            "      8  1019189690.7948  3.7469\n",
            "      9  427489208.0012  3.5913\n",
            "     10  356636783.3693  3.8187\n"
          ]
        }
      ]
    },
    {
      "cell_type": "code",
      "metadata": {
        "id": "rGszIKofgPJg"
      },
      "source": [
        "melhores_parametros = grid_search.best_params_\n",
        "melhor_resultado = grid_search.best_score_"
      ],
      "execution_count": null,
      "outputs": []
    }
  ]
}